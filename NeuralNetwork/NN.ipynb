{
 "cells": [
  {
   "cell_type": "code",
   "execution_count": 1,
   "metadata": {},
   "outputs": [],
   "source": [
    "import numpy as np\n",
    "from math import exp"
   ]
  },
  {
   "cell_type": "code",
   "execution_count": null,
   "metadata": {},
   "outputs": [],
   "source": [
    "class Neural_Network():\n",
    "    def __init__(self, x, y, k, L):\n",
    "        self.x = x\n",
    "        self.y = y\n",
    "        self.k = k\n",
    "        self.L = L\n",
    "        self.n = len(x[0])\n",
    "        self.W = np.random.randn(self.L - 1, self.k, self.k)\n",
    "        self.W_last = np.random.randn(self.n, self.k)\n",
    "        self.b = np.random.randn(self.L - 1, self.n)\n",
    "        self.b_last = np.random.randn(self.k)\n",
    "        self.h = [self.x]\n",
    "        self.y_hat = []\n",
    "        self.net = []\n",
    "        \n",
    "    def sygmoid(self, dataset):\n",
    "        ret_val = []\n",
    "        for i in range(len(dataset)):\n",
    "            n = 1/(1 + exp(-dataset[i]))\n",
    "            ret_val.append(n)\n",
    "        return ret_val\n",
    "    \n",
    "    def pre_act(self, i, j):\n",
    "        "
   ]
  }
 ],
 "metadata": {
  "kernelspec": {
   "display_name": "Python 3",
   "language": "python",
   "name": "python3"
  },
  "language_info": {
   "codemirror_mode": {
    "name": "ipython",
    "version": 3
   },
   "file_extension": ".py",
   "mimetype": "text/x-python",
   "name": "python",
   "nbconvert_exporter": "python",
   "pygments_lexer": "ipython3",
   "version": "3.8.5"
  }
 },
 "nbformat": 4,
 "nbformat_minor": 4
}
