{
 "cells": [
  {
   "cell_type": "code",
   "execution_count": 207,
   "metadata": {},
   "outputs": [],
   "source": [
    "import numpy as np\n",
    "import math"
   ]
  },
  {
   "cell_type": "code",
   "execution_count": 208,
   "metadata": {},
   "outputs": [],
   "source": [
    "class CNN():\n",
    "    def __init__(self):\n",
    "        pass\n",
    "        \n",
    "    def dot(self, a, b):\n",
    "        output = []\n",
    "        for i in range(len(a)):\n",
    "            output.append(a[i] * b[i])\n",
    "        return sum(output)\n",
    "    \n",
    "    def CNN_for_one_d(self, w, x):\n",
    "        l = len(x) - len(w)\n",
    "        output = [np.dot(x[i:i + len(w)], w) for i in range(l+1)]\n",
    "        return output\n",
    "                      \n",
    "    def adding_paddings(self, x, s):\n",
    "        x = list(x)\n",
    "        \n",
    "        adding_row = [0  for _ in range(len(x)+2*s)]\n",
    "        for i in range(s):\n",
    "            x.insert(0, adding_row)\n",
    "            x.append(adding_row)\n",
    "        \n",
    "        for i in range(s):\n",
    "            for j in range(s, len(x) - s):\n",
    "                x[j].append(0)\n",
    "                x[j].insert(i, 0)\n",
    "                \n",
    "        return x\n",
    "        \n",
    "        \n",
    "    def CNN_for_two_d(self, kernel, x, s=1):\n",
    "        len_x_0 = len(x[0])\n",
    "        \n",
    "        if s != 1 and s%2 == 1:\n",
    "            x = self.adding_paddings(x, s//2)\n",
    "            \n",
    "        print(f'x : \\n{x}')\n",
    "        \n",
    "        flatten_kernel = list(np.array(kernel).flatten())\n",
    "        width = math.ceil((len(x[0]) - len(kernel[0])) / s + 1) if s != 0 else math.ceil(len(x[0]) - len(kernel[0]) + 1)\n",
    "        height = math.ceil((len(x) - len(kernel)) / s + 1) if s != 0 else math.ceil(len(x) - len(kernel) + 1)\n",
    "        output = [] \n",
    "        print(f'width:{width}, height:{height}, output:{output}')\n",
    "        \n",
    "        \n",
    "        if s == 0: s = 1\n",
    "        \n",
    "        for h in range(0, s * height, s):\n",
    "            for w in range(0, s * width, s):\n",
    "                elem = []\n",
    "                for i in range(len(kernel)):\n",
    "                    elem.extend(x[h+i][w:w+len(kernel)])\n",
    "                print(f'elem : \\n{elem}\\n\\n')\n",
    "                output.append(np.dot(np.array(elem), flatten_kernel))\n",
    "                \n",
    "        original_output = []\n",
    "        i = 0\n",
    "        while len(original_output) != height:\n",
    "            original_output.append(output[i : i + width])\n",
    "            i += width\n",
    "        \n",
    "        return original_output"
   ]
  },
  {
   "cell_type": "code",
   "execution_count": 209,
   "metadata": {},
   "outputs": [
    {
     "name": "stdout",
     "output_type": "stream",
     "text": [
      "x : \n",
      "[[1, 1, 1, 0, 0], [0, 1, 1, 1, 0], [0, 0, 1, 1, 1], [0, 0, 1, 1, 0], [0, 1, 1, 0, 0]]\n",
      "width:2, height:2, output:[]\n",
      "elem : \n",
      "[1, 1, 1, 0, 1, 1, 0, 0, 1]\n",
      "\n",
      "\n",
      "elem : \n",
      "[1, 0, 0, 1, 1, 0, 1, 1, 1]\n",
      "\n",
      "\n",
      "elem : \n",
      "[0, 0, 1, 0, 0, 1, 0, 1, 1]\n",
      "\n",
      "\n",
      "elem : \n",
      "[1, 1, 1, 1, 1, 0, 1, 0, 0]\n",
      "\n",
      "\n",
      "[[4, 4], [2, 4]]\n"
     ]
    }
   ],
   "source": [
    "x_two_d = [\n",
    "    [1, 1, 1, 0, 0], \n",
    "    [0, 1, 1, 1, 0],\n",
    "    [0, 0, 1, 1, 1],\n",
    "    [0, 0, 1, 1, 0], \n",
    "    [0, 1, 1, 0, 0]\n",
    "]\n",
    "\n",
    "w_two_d = [\n",
    "    [1, 0, 1], \n",
    "    [0, 1, 0],\n",
    "    [1, 0, 1]\n",
    "]\n",
    "\n",
    "CNN = CNN()\n",
    "print(CNN.CNN_for_two_d(w_two_d, x_two_d, 2))"
   ]
  },
  {
   "cell_type": "code",
   "execution_count": 210,
   "metadata": {},
   "outputs": [
    {
     "data": {
      "text/plain": [
       "[[0, 0, 0, 0, 0, 0, 0],\n",
       " [0, 1, 1, 1, 0, 0, 0],\n",
       " [0, 0, 1, 1, 1, 0, 0],\n",
       " [0, 0, 0, 1, 1, 1, 0],\n",
       " [0, 0, 0, 1, 1, 0, 0],\n",
       " [0, 0, 1, 1, 0, 0, 0],\n",
       " [0, 0, 0, 0, 0, 0, 0]]"
      ]
     },
     "execution_count": 210,
     "metadata": {},
     "output_type": "execute_result"
    }
   ],
   "source": [
    "[\n",
    "    [0, 0, 0, 0, 0, 0, 0], \n",
    "    [0, 1, 1, 1, 0, 0, 0], \n",
    "    [0, 0, 1, 1, 1, 0, 0], \n",
    "    [0, 0, 0, 1, 1, 1, 0], \n",
    "    [0, 0, 0, 1, 1, 0, 0], \n",
    "    [0, 0, 1, 1, 0, 0, 0], \n",
    "    [0, 0, 0, 0, 0, 0, 0]\n",
    "]\n"
   ]
  }
 ],
 "metadata": {
  "kernelspec": {
   "display_name": "Python 3",
   "language": "python",
   "name": "python3"
  },
  "language_info": {
   "codemirror_mode": {
    "name": "ipython",
    "version": 3
   },
   "file_extension": ".py",
   "mimetype": "text/x-python",
   "name": "python",
   "nbconvert_exporter": "python",
   "pygments_lexer": "ipython3",
   "version": "3.8.5"
  }
 },
 "nbformat": 4,
 "nbformat_minor": 4
}
