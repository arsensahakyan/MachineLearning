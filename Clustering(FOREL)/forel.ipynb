{
 "cells": [
  {
   "cell_type": "code",
   "execution_count": 1,
   "metadata": {},
   "outputs": [],
   "source": [
    "import random\n",
    "import numpy as np\n",
    "import pandas as pd\n",
    "from sklearn import preprocessing\n",
    "from matplotlib import pyplot as plt"
   ]
  },
  {
   "cell_type": "code",
   "execution_count": 2,
   "metadata": {},
   "outputs": [
    {
     "data": {
      "text/html": [
       "<div>\n",
       "<style scoped>\n",
       "    .dataframe tbody tr th:only-of-type {\n",
       "        vertical-align: middle;\n",
       "    }\n",
       "\n",
       "    .dataframe tbody tr th {\n",
       "        vertical-align: top;\n",
       "    }\n",
       "\n",
       "    .dataframe thead th {\n",
       "        text-align: right;\n",
       "    }\n",
       "</style>\n",
       "<table border=\"1\" class=\"dataframe\">\n",
       "  <thead>\n",
       "    <tr style=\"text-align: right;\">\n",
       "      <th></th>\n",
       "      <th>Ft1</th>\n",
       "      <th>Ft2</th>\n",
       "      <th>Cluster</th>\n",
       "    </tr>\n",
       "  </thead>\n",
       "  <tbody>\n",
       "    <tr>\n",
       "      <th>0</th>\n",
       "      <td>0.455607</td>\n",
       "      <td>0.886307</td>\n",
       "      <td>0.0</td>\n",
       "    </tr>\n",
       "    <tr>\n",
       "      <th>1</th>\n",
       "      <td>0.183744</td>\n",
       "      <td>0.110893</td>\n",
       "      <td>1.0</td>\n",
       "    </tr>\n",
       "    <tr>\n",
       "      <th>2</th>\n",
       "      <td>0.210032</td>\n",
       "      <td>0.158605</td>\n",
       "      <td>1.0</td>\n",
       "    </tr>\n",
       "    <tr>\n",
       "      <th>3</th>\n",
       "      <td>0.106302</td>\n",
       "      <td>0.132590</td>\n",
       "      <td>1.0</td>\n",
       "    </tr>\n",
       "    <tr>\n",
       "      <th>4</th>\n",
       "      <td>0.191885</td>\n",
       "      <td>0.029188</td>\n",
       "      <td>1.0</td>\n",
       "    </tr>\n",
       "    <tr>\n",
       "      <th>...</th>\n",
       "      <td>...</td>\n",
       "      <td>...</td>\n",
       "      <td>...</td>\n",
       "    </tr>\n",
       "    <tr>\n",
       "      <th>395</th>\n",
       "      <td>0.777850</td>\n",
       "      <td>0.421688</td>\n",
       "      <td>0.5</td>\n",
       "    </tr>\n",
       "    <tr>\n",
       "      <th>396</th>\n",
       "      <td>1.000000</td>\n",
       "      <td>0.554870</td>\n",
       "      <td>0.5</td>\n",
       "    </tr>\n",
       "    <tr>\n",
       "      <th>397</th>\n",
       "      <td>0.167256</td>\n",
       "      <td>0.056141</td>\n",
       "      <td>1.0</td>\n",
       "    </tr>\n",
       "    <tr>\n",
       "      <th>398</th>\n",
       "      <td>0.111192</td>\n",
       "      <td>0.044014</td>\n",
       "      <td>1.0</td>\n",
       "    </tr>\n",
       "    <tr>\n",
       "      <th>399</th>\n",
       "      <td>0.409379</td>\n",
       "      <td>0.890738</td>\n",
       "      <td>0.0</td>\n",
       "    </tr>\n",
       "  </tbody>\n",
       "</table>\n",
       "<p>400 rows × 3 columns</p>\n",
       "</div>"
      ],
      "text/plain": [
       "          Ft1       Ft2  Cluster\n",
       "0    0.455607  0.886307      0.0\n",
       "1    0.183744  0.110893      1.0\n",
       "2    0.210032  0.158605      1.0\n",
       "3    0.106302  0.132590      1.0\n",
       "4    0.191885  0.029188      1.0\n",
       "..        ...       ...      ...\n",
       "395  0.777850  0.421688      0.5\n",
       "396  1.000000  0.554870      0.5\n",
       "397  0.167256  0.056141      1.0\n",
       "398  0.111192  0.044014      1.0\n",
       "399  0.409379  0.890738      0.0\n",
       "\n",
       "[400 rows x 3 columns]"
      ]
     },
     "execution_count": 2,
     "metadata": {},
     "output_type": "execute_result"
    }
   ],
   "source": [
    "unnormalized_data = pd.read_csv(r\"clustering_points.csv\")\n",
    "unnormalized_data = unnormalized_data.sample(frac=1).reset_index(drop=True)\n",
    "scaler = preprocessing.MinMaxScaler()\n",
    "col_names = unnormalized_data.columns\n",
    "df = scaler.fit_transform(unnormalized_data)\n",
    "data = pd.DataFrame(df, columns=col_names)\n",
    "data"
   ]
  },
  {
   "cell_type": "code",
   "execution_count": 3,
   "metadata": {},
   "outputs": [
    {
     "data": {
      "text/plain": [
       "<matplotlib.collections.PathCollection at 0x15dee87aa30>"
      ]
     },
     "execution_count": 3,
     "metadata": {},
     "output_type": "execute_result"
    },
    {
     "data": {
      "image/png": "[encoded data removed]",
      "text/plain": [
       "<Figure size 432x288 with 1 Axes>"
      ]
     },
     "metadata": {
      "needs_background": "light"
     },
     "output_type": "display_data"
    }
   ],
   "source": [
    "plt.scatter(data.iloc[:,0],data.iloc[:,1])"
   ]
  },
  {
   "cell_type": "code",
   "execution_count": 4,
   "metadata": {},
   "outputs": [],
   "source": [
    "r = 0.7"
   ]
  },
  {
   "cell_type": "code",
   "execution_count": 5,
   "metadata": {},
   "outputs": [],
   "source": [
    "def distance(A, B):\n",
    "    return ((A[0] - B[0]) ** 2 + (A[1] - B[1]) ** 2) ** (1/2)"
   ]
  },
  {
   "cell_type": "code",
   "execution_count": 6,
   "metadata": {},
   "outputs": [],
   "source": [
    "def mean(x1,x2):\n",
    "    return (sum(x1) / len(x1), sum(x2) / len(x2))"
   ]
  },
  {
   "cell_type": "code",
   "execution_count": 7,
   "metadata": {},
   "outputs": [],
   "source": [
    "def points_in_radius(O,radius):\n",
    "    list1 = []\n",
    "    for i in range(data.shape[0]):\n",
    "        D = distance(O, (data.iloc[i, 0], data.iloc[i, 1]))\n",
    "        if D <= radius:\n",
    "            list1.append((data.iloc[i, 0], data.iloc[i, 1],i))\n",
    "    return list1"
   ]
  },
  {
   "cell_type": "code",
   "execution_count": 8,
   "metadata": {},
   "outputs": [],
   "source": [
    "def one_cluster_selection(r):\n",
    "    center = mean(list(data.iloc[:,0]),list(data.iloc[:,1]))\n",
    "    points = points_in_radius(center, r)\n",
    "    local_center = (0,0)\n",
    "    \n",
    "    while local_center != center:\n",
    "        center = local_center\n",
    "        r *= 0.9\n",
    "        local_center = random.choice(points)\n",
    "        points = points_in_radius(local_center, r)\n",
    "        local_center = mean([i[0] for i in points], [i[1] for i in points])\n",
    "    return points   "
   ]
  },
  {
   "cell_type": "code",
   "execution_count": 9,
   "metadata": {},
   "outputs": [],
   "source": [
    "clusters=[]\n",
    "while len(data.index):\n",
    "    cluster=one_cluster_selection(r)\n",
    "    for i in cluster:\n",
    "        data.drop(i[2], inplace = True, axis = 0)\n",
    "    data.reset_index(drop = True,inplace=True)\n",
    "    clusters.append(cluster)\n",
    "       "
   ]
  },
  {
   "cell_type": "code",
   "execution_count": 10,
   "metadata": {},
   "outputs": [
    {
     "data": {
      "image/png": "[encoded data removed]",
      "text/plain": [
       "<Figure size 432x288 with 1 Axes>"
      ]
     },
     "metadata": {
      "needs_background": "light"
     },
     "output_type": "display_data"
    }
   ],
   "source": [
    "for j in range(len(clusters)):\n",
    "    plt.scatter([i[0] for i in clusters[j] ],[i[1] for i in clusters[j]])\n",
    "plt.show()"
   ]
  }
 ],
 "metadata": {
  "kernelspec": {
   "display_name": "Python 3",
   "language": "python",
   "name": "python3"
  },
  "language_info": {
   "codemirror_mode": {
    "name": "ipython",
    "version": 3
   },
   "file_extension": ".py",
   "mimetype": "text/x-python",
   "name": "python",
   "nbconvert_exporter": "python",
   "pygments_lexer": "ipython3",
   "version": "3.8.5"
  }
 },
 "nbformat": 4,
 "nbformat_minor": 4
}
