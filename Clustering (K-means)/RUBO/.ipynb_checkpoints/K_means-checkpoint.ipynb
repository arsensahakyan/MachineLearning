{
 "cells": [
  {
   "cell_type": "code",
   "execution_count": 20,
   "metadata": {},
   "outputs": [],
   "source": [
    "import numpy as np"
   ]
  },
  {
   "cell_type": "code",
   "execution_count": 21,
   "metadata": {},
   "outputs": [],
   "source": [
    "import pandas as pd"
   ]
  },
  {
   "cell_type": "code",
   "execution_count": 22,
   "metadata": {},
   "outputs": [],
   "source": [
    "import random"
   ]
  },
  {
   "cell_type": "code",
   "execution_count": 23,
   "metadata": {},
   "outputs": [
    {
     "data": {
      "text/html": [
       "<div>\n",
       "<style scoped>\n",
       "    .dataframe tbody tr th:only-of-type {\n",
       "        vertical-align: middle;\n",
       "    }\n",
       "\n",
       "    .dataframe tbody tr th {\n",
       "        vertical-align: top;\n",
       "    }\n",
       "\n",
       "    .dataframe thead th {\n",
       "        text-align: right;\n",
       "    }\n",
       "</style>\n",
       "<table border=\"1\" class=\"dataframe\">\n",
       "  <thead>\n",
       "    <tr style=\"text-align: right;\">\n",
       "      <th></th>\n",
       "      <th>Ft1</th>\n",
       "      <th>Ft2</th>\n",
       "      <th>Cluster</th>\n",
       "    </tr>\n",
       "  </thead>\n",
       "  <tbody>\n",
       "    <tr>\n",
       "      <th>0</th>\n",
       "      <td>-81.600565</td>\n",
       "      <td>-51.253154</td>\n",
       "      <td>2</td>\n",
       "    </tr>\n",
       "    <tr>\n",
       "      <th>1</th>\n",
       "      <td>-51.289427</td>\n",
       "      <td>98.361886</td>\n",
       "      <td>0</td>\n",
       "    </tr>\n",
       "    <tr>\n",
       "      <th>2</th>\n",
       "      <td>-71.253703</td>\n",
       "      <td>-71.528332</td>\n",
       "      <td>2</td>\n",
       "    </tr>\n",
       "    <tr>\n",
       "      <th>3</th>\n",
       "      <td>56.149986</td>\n",
       "      <td>18.261123</td>\n",
       "      <td>1</td>\n",
       "    </tr>\n",
       "    <tr>\n",
       "      <th>4</th>\n",
       "      <td>-19.383071</td>\n",
       "      <td>101.498518</td>\n",
       "      <td>0</td>\n",
       "    </tr>\n",
       "    <tr>\n",
       "      <th>...</th>\n",
       "      <td>...</td>\n",
       "      <td>...</td>\n",
       "      <td>...</td>\n",
       "    </tr>\n",
       "    <tr>\n",
       "      <th>395</th>\n",
       "      <td>46.643890</td>\n",
       "      <td>24.711680</td>\n",
       "      <td>1</td>\n",
       "    </tr>\n",
       "    <tr>\n",
       "      <th>396</th>\n",
       "      <td>31.917945</td>\n",
       "      <td>5.657059</td>\n",
       "      <td>1</td>\n",
       "    </tr>\n",
       "    <tr>\n",
       "      <th>397</th>\n",
       "      <td>-68.080610</td>\n",
       "      <td>-73.577670</td>\n",
       "      <td>2</td>\n",
       "    </tr>\n",
       "    <tr>\n",
       "      <th>398</th>\n",
       "      <td>-8.767863</td>\n",
       "      <td>75.841448</td>\n",
       "      <td>0</td>\n",
       "    </tr>\n",
       "    <tr>\n",
       "      <th>399</th>\n",
       "      <td>-21.514103</td>\n",
       "      <td>95.750707</td>\n",
       "      <td>0</td>\n",
       "    </tr>\n",
       "  </tbody>\n",
       "</table>\n",
       "<p>400 rows × 3 columns</p>\n",
       "</div>"
      ],
      "text/plain": [
       "           Ft1         Ft2  Cluster\n",
       "0   -81.600565  -51.253154        2\n",
       "1   -51.289427   98.361886        0\n",
       "2   -71.253703  -71.528332        2\n",
       "3    56.149986   18.261123        1\n",
       "4   -19.383071  101.498518        0\n",
       "..         ...         ...      ...\n",
       "395  46.643890   24.711680        1\n",
       "396  31.917945    5.657059        1\n",
       "397 -68.080610  -73.577670        2\n",
       "398  -8.767863   75.841448        0\n",
       "399 -21.514103   95.750707        0\n",
       "\n",
       "[400 rows x 3 columns]"
      ]
     },
     "execution_count": 23,
     "metadata": {},
     "output_type": "execute_result"
    }
   ],
   "source": [
    "data = pd.read_csv(\"Datasets/clustering_points.csv\")\n",
    "data"
   ]
  },
  {
   "cell_type": "code",
   "execution_count": null,
   "metadata": {},
   "outputs": [],
   "source": []
  },
  {
   "cell_type": "code",
   "execution_count": 24,
   "metadata": {},
   "outputs": [],
   "source": [
    "k = 3"
   ]
  },
  {
   "cell_type": "code",
   "execution_count": 25,
   "metadata": {},
   "outputs": [
    {
     "data": {
      "text/plain": [
       "2"
      ]
     },
     "execution_count": 25,
     "metadata": {},
     "output_type": "execute_result"
    }
   ],
   "source": [
    "def get_the_nearest_cluster_centroid_index(i, centroids, k):\n",
    "    distances = []\n",
    "    for j in range(k):\n",
    "        distance = 0 \n",
    "        for t in range(2):\n",
    "            distance += (data.iloc[i, t] - centroids[j][t]) ** 2\n",
    "        distances.append(distance ** (1/2))\n",
    "    return distances.index(min(distances))"
   ]
  },
  {
   "cell_type": "code",
   "execution_count": 26,
   "metadata": {},
   "outputs": [],
   "source": [
    "def update_cluster_centroids(centroids):\n",
    "    local_centroids = centroids[:]\n",
    "    for j in range(len(local_centroids)):\n",
    "        x, y = 0, 0\n",
    "        for i in range(data.shape[0]):\n",
    "            if c_indices[i] == j:\n",
    "                x, y = x + data.iloc[i, 0], y + data.iloc[i, 1]\n",
    "        x, y = x / c_indices.count(j), y / c_indices.count(j)\n",
    "        local_centroids[j] = (x, y)\n",
    "    return local_centroids"
   ]
  },
  {
   "cell_type": "code",
   "execution_count": 27,
   "metadata": {},
   "outputs": [],
   "source": [
    "for _ in range(1):\n",
    "    centroid_indices = random.sample(list(data.index), k)\n",
    "    centroids = [\n",
    "        (data.iloc[centroid_indices[i], 0],\n",
    "         data.iloc[centroid_indices[i], 1])\n",
    "         for i in range(k)\n",
    "    ]\n",
    "    c_indices = []\n",
    "    for i in range(data.shape[0]):\n",
    "        c_indices.append(get_the_nearest_cluster_centroid_index(i, centroids, k))\n",
    "    new_centroids = update_cluster_centroids(centroids)"
   ]
  },
  {
   "cell_type": "code",
   "execution_count": 28,
   "metadata": {},
   "outputs": [
    {
     "name": "stdout",
     "output_type": "stream",
     "text": [
      "[(-24.961957311748428, 104.67820205355636), (-65.89852334254857, -48.047087946305076), (-66.08048353955897, -81.56858169096256)]\n",
      "[(9.657636331218994, 56.130748627632144), (-58.848302502871825, -50.41652225186714), (-68.079204369133, -74.46354571558605)]\n"
     ]
    }
   ],
   "source": [
    "print(centroids)\n",
    "print(new_centroids)"
   ]
  },
  {
   "cell_type": "code",
   "execution_count": null,
   "metadata": {},
   "outputs": [],
   "source": []
  }
 ],
 "metadata": {
  "kernelspec": {
   "display_name": "Python 3",
   "language": "python",
   "name": "python3"
  },
  "language_info": {
   "codemirror_mode": {
    "name": "ipython",
    "version": 3
   },
   "file_extension": ".py",
   "mimetype": "text/x-python",
   "name": "python",
   "nbconvert_exporter": "python",
   "pygments_lexer": "ipython3",
   "version": "3.8.5"
  }
 },
 "nbformat": 4,
 "nbformat_minor": 4
}
