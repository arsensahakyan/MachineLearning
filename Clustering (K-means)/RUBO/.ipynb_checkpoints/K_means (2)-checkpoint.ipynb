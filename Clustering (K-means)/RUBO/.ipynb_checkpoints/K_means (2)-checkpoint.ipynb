{
 "cells": [
  {
   "cell_type": "code",
   "execution_count": 290,
   "metadata": {},
   "outputs": [],
   "source": [
    "import numpy as np"
   ]
  },
  {
   "cell_type": "code",
   "execution_count": 291,
   "metadata": {},
   "outputs": [],
   "source": [
    "import pandas as pd"
   ]
  },
  {
   "cell_type": "code",
   "execution_count": 305,
   "metadata": {},
   "outputs": [],
   "source": [
    "import matplotlib.pyplot as plt"
   ]
  },
  {
   "cell_type": "code",
   "execution_count": 292,
   "metadata": {},
   "outputs": [],
   "source": [
    "import random"
   ]
  },
  {
   "cell_type": "code",
   "execution_count": 293,
   "metadata": {},
   "outputs": [],
   "source": [
    "import math"
   ]
  },
  {
   "cell_type": "code",
   "execution_count": 294,
   "metadata": {},
   "outputs": [
    {
     "data": {
      "text/html": [
       "<div>\n",
       "<style scoped>\n",
       "    .dataframe tbody tr th:only-of-type {\n",
       "        vertical-align: middle;\n",
       "    }\n",
       "\n",
       "    .dataframe tbody tr th {\n",
       "        vertical-align: top;\n",
       "    }\n",
       "\n",
       "    .dataframe thead th {\n",
       "        text-align: right;\n",
       "    }\n",
       "</style>\n",
       "<table border=\"1\" class=\"dataframe\">\n",
       "  <thead>\n",
       "    <tr style=\"text-align: right;\">\n",
       "      <th></th>\n",
       "      <th>Ft1</th>\n",
       "      <th>Ft2</th>\n",
       "      <th>Cluster</th>\n",
       "    </tr>\n",
       "  </thead>\n",
       "  <tbody>\n",
       "    <tr>\n",
       "      <th>0</th>\n",
       "      <td>-81.600565</td>\n",
       "      <td>-51.253154</td>\n",
       "      <td>2</td>\n",
       "    </tr>\n",
       "    <tr>\n",
       "      <th>1</th>\n",
       "      <td>-51.289427</td>\n",
       "      <td>98.361886</td>\n",
       "      <td>0</td>\n",
       "    </tr>\n",
       "    <tr>\n",
       "      <th>2</th>\n",
       "      <td>-71.253703</td>\n",
       "      <td>-71.528332</td>\n",
       "      <td>2</td>\n",
       "    </tr>\n",
       "    <tr>\n",
       "      <th>3</th>\n",
       "      <td>56.149986</td>\n",
       "      <td>18.261123</td>\n",
       "      <td>1</td>\n",
       "    </tr>\n",
       "    <tr>\n",
       "      <th>4</th>\n",
       "      <td>-19.383071</td>\n",
       "      <td>101.498518</td>\n",
       "      <td>0</td>\n",
       "    </tr>\n",
       "    <tr>\n",
       "      <th>...</th>\n",
       "      <td>...</td>\n",
       "      <td>...</td>\n",
       "      <td>...</td>\n",
       "    </tr>\n",
       "    <tr>\n",
       "      <th>395</th>\n",
       "      <td>46.643890</td>\n",
       "      <td>24.711680</td>\n",
       "      <td>1</td>\n",
       "    </tr>\n",
       "    <tr>\n",
       "      <th>396</th>\n",
       "      <td>31.917945</td>\n",
       "      <td>5.657059</td>\n",
       "      <td>1</td>\n",
       "    </tr>\n",
       "    <tr>\n",
       "      <th>397</th>\n",
       "      <td>-68.080610</td>\n",
       "      <td>-73.577670</td>\n",
       "      <td>2</td>\n",
       "    </tr>\n",
       "    <tr>\n",
       "      <th>398</th>\n",
       "      <td>-8.767863</td>\n",
       "      <td>75.841448</td>\n",
       "      <td>0</td>\n",
       "    </tr>\n",
       "    <tr>\n",
       "      <th>399</th>\n",
       "      <td>-21.514103</td>\n",
       "      <td>95.750707</td>\n",
       "      <td>0</td>\n",
       "    </tr>\n",
       "  </tbody>\n",
       "</table>\n",
       "<p>400 rows × 3 columns</p>\n",
       "</div>"
      ],
      "text/plain": [
       "           Ft1         Ft2  Cluster\n",
       "0   -81.600565  -51.253154        2\n",
       "1   -51.289427   98.361886        0\n",
       "2   -71.253703  -71.528332        2\n",
       "3    56.149986   18.261123        1\n",
       "4   -19.383071  101.498518        0\n",
       "..         ...         ...      ...\n",
       "395  46.643890   24.711680        1\n",
       "396  31.917945    5.657059        1\n",
       "397 -68.080610  -73.577670        2\n",
       "398  -8.767863   75.841448        0\n",
       "399 -21.514103   95.750707        0\n",
       "\n",
       "[400 rows x 3 columns]"
      ]
     },
     "execution_count": 294,
     "metadata": {},
     "output_type": "execute_result"
    }
   ],
   "source": [
    "data = pd.read_csv(\"Datasets/clustering_points.csv\")\n",
    "data"
   ]
  },
  {
   "cell_type": "code",
   "execution_count": null,
   "metadata": {},
   "outputs": [],
   "source": []
  },
  {
   "cell_type": "code",
   "execution_count": 295,
   "metadata": {},
   "outputs": [],
   "source": [
    "k = 3"
   ]
  },
  {
   "cell_type": "code",
   "execution_count": 296,
   "metadata": {},
   "outputs": [],
   "source": [
    "def distance_between_two_points(A, B):\n",
    "    return ((A[0] - B[0]) ** 2 + (A[1] - B[1]) ** 2) ** (1 / 2)"
   ]
  },
  {
   "cell_type": "code",
   "execution_count": 297,
   "metadata": {},
   "outputs": [],
   "source": [
    "def get_the_nearest_cluster_centroid_index(i, centroids, k):\n",
    "    distances = []\n",
    "    for j in range(k):\n",
    "        distances.append(distance_between_two_points(centroids[j], [data.iloc[i, 0], data.iloc[i, 1]]))\n",
    "    return distances.index(min(distances))"
   ]
  },
  {
   "cell_type": "code",
   "execution_count": 298,
   "metadata": {},
   "outputs": [],
   "source": [
    "def update_cluster_centroids(centroids):\n",
    "    local_centroids = centroids[:]\n",
    "    for j in range(len(local_centroids)):\n",
    "        x, y = 0, 0\n",
    "        for i in range(data.shape[0]):\n",
    "            if c_indices[i] == j:\n",
    "                x, y = x + data.iloc[i, 0], y + data.iloc[i, 1]\n",
    "        try:\n",
    "            x, y = x / c_indices.count(j), y / c_indices.count(j)\n",
    "        except ZeroDivisionError:\n",
    "            return False\n",
    "        local_centroids[j] = (x, y)\n",
    "    return local_centroids"
   ]
  },
  {
   "cell_type": "code",
   "execution_count": 299,
   "metadata": {},
   "outputs": [],
   "source": [
    "def distortion_function(c_indices, centroids):\n",
    "    res = 0\n",
    "    for i in range(400):\n",
    "        res += (distance_between_two_points(centroids[c_indices[i]], [data.iloc[i, 0], data.iloc[i, 1]])) ** 2\n",
    "    return 1/data.shape[0] * res"
   ]
  },
  {
   "cell_type": "code",
   "execution_count": 300,
   "metadata": {},
   "outputs": [
    {
     "name": "stdout",
     "output_type": "stream",
     "text": [
      "The lowest distortion function is 192.38311408290505\n",
      "Centroids are [(46.71991692664884, 19.082692474563775), (-69.16652715418095, -68.35146816048734), (-25.878577355878488, 90.49949214291385)]\n",
      "Indices are [1, 2, 1, 0, 2, 2, 2, 1, 2, 0, 1, 2, 1, 2, 1, 0, 0, 2, 0, 1, 2, 1, 2, 2, 2, 1, 1, 2, 0, 1, 1, 0, 1, 1, 2, 0, 2, 0, 2, 0, 2, 1, 1, 1, 0, 0, 2, 0, 2, 0, 2, 1, 0, 0, 0, 1, 2, 2, 1, 0, 0, 0, 1, 0, 2, 2, 0, 0, 0, 1, 2, 1, 1, 2, 1, 2, 1, 0, 2, 2, 0, 2, 1, 1, 0, 0, 1, 0, 2, 1, 0, 2, 1, 0, 2, 1, 1, 0, 0, 2, 0, 2, 2, 1, 1, 0, 0, 0, 0, 2, 2, 1, 0, 2, 1, 1, 1, 0, 1, 2, 0, 2, 1, 2, 1, 0, 0, 0, 1, 2, 2, 2, 0, 1, 0, 1, 2, 1, 2, 1, 2, 0, 1, 0, 2, 1, 0, 2, 1, 2, 1, 2, 1, 2, 1, 2, 0, 2, 2, 2, 2, 2, 0, 1, 2, 1, 0, 1, 1, 1, 1, 2, 0, 0, 0, 2, 2, 2, 0, 1, 0, 2, 0, 0, 1, 0, 2, 2, 1, 0, 2, 1, 1, 0, 1, 0, 1, 1, 1, 1, 0, 2, 1, 2, 2, 0, 1, 2, 1, 0, 2, 0, 2, 2, 0, 0, 1, 2, 2, 2, 1, 2, 2, 0, 0, 2, 0, 2, 0, 2, 0, 2, 0, 1, 1, 0, 1, 1, 0, 0, 2, 2, 1, 2, 0, 0, 2, 2, 0, 0, 0, 0, 2, 1, 0, 1, 2, 0, 1, 1, 2, 0, 0, 1, 1, 0, 1, 1, 2, 0, 2, 0, 1, 2, 2, 1, 2, 2, 0, 1, 2, 2, 1, 1, 2, 2, 1, 1, 1, 0, 0, 1, 2, 2, 0, 1, 2, 2, 2, 1, 1, 0, 1, 0, 0, 1, 0, 1, 1, 2, 2, 2, 1, 0, 2, 2, 0, 2, 0, 0, 0, 0, 1, 1, 2, 0, 1, 2, 0, 2, 2, 0, 2, 0, 1, 0, 1, 2, 2, 1, 1, 1, 0, 2, 1, 0, 0, 1, 1, 2, 0, 0, 1, 0, 1, 0, 0, 2, 0, 2, 1, 1, 0, 0, 1, 1, 0, 0, 0, 1, 2, 1, 1, 1, 2, 1, 0, 1, 0, 0, 2, 0, 0, 1, 1, 2, 2, 0, 0, 1, 2, 1, 2, 2, 1, 0, 0, 1, 2, 2]\n"
     ]
    }
   ],
   "source": [
    "def K_means():\n",
    "    centroid_indices = random.sample(list(data.index), k)\n",
    "    centroids = [\n",
    "        (data.iloc[centroid_indices[i], 0],\n",
    "         data.iloc[centroid_indices[i], 1])\n",
    "         for i in range(k)\n",
    "    ]\n",
    "    for _ in range(100):\n",
    "        c_indices = []\n",
    "        for i in range(data.shape[0]):\n",
    "            c_indices.append(get_the_nearest_cluster_centroid_index(i, centroids, k))\n",
    "        centroids = update_cluster_centroids(centroids)\n",
    "        if not centroids:\n",
    "            return False\n",
    "    distortion = distortion_function(c_indices, centroids)\n",
    "    if distortion < min_distortion_function:\n",
    "        K_means.min_distortion_function = distortion\n",
    "        K_means.min_centroids = centroids[:]\n",
    "        K_means.min_c_indices = c_indices[:]\n",
    "K_means.min_distortion_function = math.inf\n",
    "K_means.min_centroids = []\n",
    "K_means.min_c_indices = []\n",
    "for _ in range(10):\n",
    "    K_means()\n",
    "print(\"The lowest distortion function is\", K_means.min_distortion_function)\n",
    "print(\"Centroids are\", K_means.min_centroids)\n",
    "print(\"Indices are\", K_means.min_c_indices)"
   ]
  },
  {
   "cell_type": "code",
   "execution_count": 307,
   "metadata": {},
   "outputs": [
    {
     "data": {
      "image/png": "[encoded data removed]",
      "text/plain": [
       "<Figure size 432x288 with 1 Axes>"
      ]
     },
     "metadata": {
      "needs_background": "light"
     },
     "output_type": "display_data"
    }
   ],
   "source": [
    "colors = [\"red\", \"blue\", \"green\"]\n",
    "for i in range(data.shape[0]):\n",
    "    plt.scatter(data.iloc[i, 0], data.iloc[i, 1], color=colors[K_means.min_c_indices[i]])"
   ]
  },
  {
   "cell_type": "code",
   "execution_count": null,
   "metadata": {},
   "outputs": [],
   "source": []
  }
 ],
 "metadata": {
  "kernelspec": {
   "display_name": "Python 3",
   "language": "python",
   "name": "python3"
  },
  "language_info": {
   "codemirror_mode": {
    "name": "ipython",
    "version": 3
   },
   "file_extension": ".py",
   "mimetype": "text/x-python",
   "name": "python",
   "nbconvert_exporter": "python",
   "pygments_lexer": "ipython3",
   "version": "3.8.5"
  }
 },
 "nbformat": 4,
 "nbformat_minor": 4
}
